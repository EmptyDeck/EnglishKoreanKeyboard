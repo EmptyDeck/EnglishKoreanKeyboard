{
 "cells": [
  {
   "cell_type": "code",
   "execution_count": null,
   "metadata": {},
   "outputs": [],
   "source": [
    "import os\n",
    "import subprocess\n",
    "\n",
    "def is_korean_input_mode():\n",
    "    \"\"\"\n",
    "    Runs the C++ executable to determine if the current keyboard input mode is Korean.\n",
    "    \n",
    "    Returns:\n",
    "        bool: True if Korean input mode, False if English input mode.\n",
    "    \n",
    "    Raises:\n",
    "        FileNotFoundError: If the executable is not found in the script's directory.\n",
    "        ValueError: If the executable produces unexpected output.\n",
    "    \"\"\"\n",
    "    # Get the directory of the current Python script\n",
    "    script_dir = os.path.dirname(os.path.abspath(__file__))\n",
    "    # Construct the full path to the executable\n",
    "    exe_path = os.path.join(script_dir, 'keyboard_mode.exe')\n",
    "    \n",
    "    # Check if the executable exists\n",
    "    if not os.path.exists(exe_path):\n",
    "        raise FileNotFoundError(\"Executable 'keyboard_mode.exe' not found in script directory.\")\n",
    "    \n",
    "    # Run the executable and capture its output\n",
    "    result = subprocess.run([exe_path], capture_output=True, text=True)\n",
    "    output = result.stdout.strip()\n",
    "    \n",
    "    # Interpret the output\n",
    "    if output == \"Korean input mode\":\n",
    "        return True\n",
    "    elif output == \"English input mode\":\n",
    "        return False\n",
    "    else:\n",
    "        raise ValueError(f\"Unexpected output from executable: '{output}'\")\n",
    "\n",
    "if __name__ == \"__main__\":\n",
    "    try:\n",
    "        # Check the input mode and print the result\n",
    "        if is_korean_input_mode():\n",
    "            print(\"The keyboard is in Korean mode.\")\n",
    "        else:\n",
    "            print(\"The keyboard is in English mode.\")\n",
    "    except Exception as e:\n",
    "        print(f\"Error: {e}\")"
   ]
  }
 ],
 "metadata": {
  "kernelspec": {
   "display_name": "fart",
   "language": "python",
   "name": "python3"
  },
  "language_info": {
   "name": "python",
   "version": "3.12.2"
  }
 },
 "nbformat": 4,
 "nbformat_minor": 2
}
