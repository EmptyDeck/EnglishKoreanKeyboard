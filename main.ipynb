{
 "cells": [
  {
   "cell_type": "code",
   "execution_count": 1,
   "metadata": {},
   "outputs": [],
   "source": [
    "import keyboard\n",
    "from pynput.keyboard import Controller as KeyCtrl\n",
    "from pynput.keyboard import Key\n",
    "\n",
    "physical_keyboard = KeyCtrl()\n",
    "buffered_word = \"\"\n",
    "current_layout = \"en\"  # 초기 설정\n",
    "converted_positions = set()"
   ]
  },
  {
   "cell_type": "code",
   "execution_count": 2,
   "metadata": {},
   "outputs": [],
   "source": [
    "import torch\n",
    "import torch.nn as nn\n",
    "from torch.utils.data import Dataset, DataLoader, random_split, Subset\n",
    "import pandas as pd\n",
    "import numpy as np\n",
    "import torch.optim as optim\n",
    "import matplotlib.pyplot as plt\n",
    "\n",
    "# Define the allowed characters (26 lowercase + 26 uppercase)\n",
    "ALPHABET = \"abcdefghijklmnopqrstuvwxyzABCDEFGHIJKLMNOPQRSTUVWXYZ\"\n",
    "char_to_idx = {char: idx for idx, char in enumerate(ALPHABET)}\n",
    "\n",
    "def one_hot_encode(letter):\n",
    "    \"\"\"Return a 52-dim one-hot vector for a given letter.\"\"\"\n",
    "    vec = np.zeros(len(ALPHABET), dtype=np.float32)\n",
    "    if letter in char_to_idx:\n",
    "        vec[char_to_idx[letter]] = 1.0\n",
    "    return vec\n",
    "class LanguageClassifier(nn.Module):\n",
    "    def __init__(self, input_size=52, hidden_size=128, num_layers=1):\n",
    "        super(LanguageClassifier, self).__init__()\n",
    "        self.lstm = nn.LSTM(input_size, hidden_size, num_layers, batch_first=True)\n",
    "        self.fc = nn.Linear(hidden_size, 1)\n",
    "        self.sigmoid = nn.Sigmoid()\n",
    "        \n",
    "    def forward(self, x, lengths):\n",
    "        # Pack the padded sequence\n",
    "        packed = nn.utils.rnn.pack_padded_sequence(x, lengths, batch_first=True, enforce_sorted=False)\n",
    "        packed_out, (h_n, _) = self.lstm(packed)\n",
    "        # h_n is of shape (num_layers, batch, hidden_size); we use the last layer’s hidden state\n",
    "        h_last = h_n[-1]  # shape: (batch, hidden_size)\n",
    "        out = self.fc(h_last)  # shape: (batch, 1)\n",
    "        out = self.sigmoid(out)  # Output between 0 and 1\n",
    "        return out\n",
    "\n",
    "\n",
    "model = LanguageClassifier(input_size=52, hidden_size=128, num_layers=1)\n",
    "\n",
    "model.load_state_dict(torch.load(\"AI/best_model.pt\"))\n",
    "\n",
    "def predict_language(input_str):\n",
    "    model.eval()\n",
    "    seq = [one_hot_encode(ch) for ch in input_str if ch in char_to_idx]\n",
    "    if not seq: return 0.5  # 기본값\n",
    "    \n",
    "    seq_tensor = torch.tensor(seq).unsqueeze(0)\n",
    "    length = torch.tensor([len(seq)])\n",
    "    \n",
    "    with torch.no_grad():\n",
    "        output = model(seq_tensor, length)\n",
    "    return output.item()"
   ]
  },
  {
   "cell_type": "code",
   "execution_count": 3,
   "metadata": {},
   "outputs": [],
   "source": [
    "import platform\n",
    "import os\n",
    "import ctypes\n",
    "\n",
    "\n",
    "def switch_layout(target_lang):\n",
    "    if platform.system() == 'Windows':\n",
    "        # HKL_US = 0x04090409, HKL_Korean = 0x04120412\n",
    "        lang_code = 0x04120412 if target_lang == \"ko\" else 0x04090409\n",
    "        ctypes.windll.user32.ActivateKeyboardLayout(lang_code, 0)\n",
    "    elif platform.system() == 'Darwin':\n",
    "        src = \"\"\"\n",
    "        # macOS 입력 소스 전환 코드 (Objective-C)\n",
    "        \"\"\"\n",
    "        os.system(f\"osascript -e '{src}'\")"
   ]
  },
  {
   "cell_type": "code",
   "execution_count": 4,
   "metadata": {},
   "outputs": [
    {
     "name": "stdout",
     "output_type": "stream",
     "text": [
      "Test : \n",
      "ㅗ디ㅣㅐ dkssudgktpdy\n"
     ]
    }
   ],
   "source": [
    "from process.KoEnMapper import conv_en2ko, conv_ko2en\n",
    "\n",
    "\n",
    "\n",
    "# Example usage\n",
    "result_ko = conv_en2ko(\"hello\")\n",
    "result_en = conv_ko2en(\"안녕하세요\")\n",
    "print(\"Test : \")\n",
    "print(result_ko, result_en)"
   ]
  },
  {
   "cell_type": "code",
   "execution_count": 1,
   "metadata": {},
   "outputs": [],
   "source": [
    "def process_conversion(new_layout):\n",
    "    global buffered_word, converted_positions\n",
    "    \n",
    "    if new_layout == \"ko\":\n",
    "        converted = conv_en2ko(buffered_word)\n",
    "    if new_layout == \"en\":\n",
    "        converted = conv_ko2en(buffered_word)\n",
    "    \n",
    "    # 백스페이스 시뮬레이션\n",
    "    physical_keyboard.press(Key.backspace)\n",
    "    physical_keyboard.release(Key.backspace)\n",
    "    \n",
    "    # 변환 텍스트 입력\n",
    "    physical_keyboard.type(converted)\n",
    "    converted_positions.add(len(buffered_word))"
   ]
  },
  {
   "cell_type": "code",
   "execution_count": null,
   "metadata": {},
   "outputs": [],
   "source": [
    "import logging\n",
    "\n",
    "# 로그 설정\n",
    "logging.basicConfig(filename='key_event_log.txt', level=logging.INFO, format='%(asctime)s - %(message)s')\n",
    "\n",
    "THRESHOLD_HIGH = 0.99\n",
    "THRESHOLD_LOW = 0.01\n",
    "\n",
    "def on_key_event(e):\n",
    "    global buffered_word\n",
    "    \n",
    "    # 이벤트 종류와 키 정보 로그\n",
    "    logging.info(f\"Key event detected: {e.name} - Event type: {e.event_type}\")\n",
    "    \n",
    "    if e.event_type == keyboard.KEY_DOWN:\n",
    "        if e.name == 'backspace':\n",
    "            # 변환된 영역 수정 방지\n",
    "            if len(buffered_word) in converted_positions:\n",
    "                logging.info(\"Backspace pressed, but conversion area is locked.\")\n",
    "                return False\n",
    "            buffered_word = buffered_word[:-1]\n",
    "            logging.info(f\"Backspace pressed. Buffered word: {buffered_word}\")\n",
    "            return  # Ensure return after handling backspace\n",
    "            \n",
    "        # Check if the key is a single alphabetic character\n",
    "        if len(e.name) != 1 or not e.name.isalpha():\n",
    "            buffered_word = \"\"\n",
    "            logging.info(f\"Non-alphabet key pressed. Resetting buffered word: {buffered_word}\")\n",
    "            return  # Block further processing for non-alphabet keys\n",
    "            \n",
    "        buffered_word += e.name\n",
    "        logging.info(f\"Added '{e.name}' to buffered word. Current buffered word: {buffered_word}\")\n",
    "        \n",
    "        prob = predict_language(buffered_word)\n",
    "        logging.info(f\"Predicted language probability: {prob} for word: {buffered_word}\")\n",
    "        \n",
    "        if current_layout == \"en\" and prob < THRESHOLD_LOW:\n",
    "            logging.info(\"Switching to Korean layout\")\n",
    "            process_conversion(\"ko\")\n",
    "            switch_layout(\"ko\")\n",
    "        elif current_layout == \"ko\" and prob > THRESHOLD_HIGH:\n",
    "            logging.info(\"Switching to English layout\")\n",
    "            process_conversion(\"en\")\n",
    "            switch_layout(\"en\")"
   ]
  },
  {
   "cell_type": "code",
   "execution_count": null,
   "metadata": {},
   "outputs": [],
   "source": [
    "# 키보드 리스너 시작\n",
    "keyboard.hook(on_key_event)\n",
    "keyboard.wait('f10')  # F10을 누르면 종료"
   ]
  }
 ],
 "metadata": {
  "kernelspec": {
   "display_name": "torchenv",
   "language": "python",
   "name": "python3"
  },
  "language_info": {
   "codemirror_mode": {
    "name": "ipython",
    "version": 3
   },
   "file_extension": ".py",
   "mimetype": "text/x-python",
   "name": "python",
   "nbconvert_exporter": "python",
   "pygments_lexer": "ipython3",
   "version": "3.11.4"
  }
 },
 "nbformat": 4,
 "nbformat_minor": 2
}
