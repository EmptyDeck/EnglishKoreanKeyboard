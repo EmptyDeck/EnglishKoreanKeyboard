{
 "cells": [
  {
   "cell_type": "code",
   "execution_count": 3,
   "metadata": {},
   "outputs": [],
   "source": [
    "import keyboard\n",
    "from pynput.keyboard import Controller as KeyCtrl\n",
    "\n",
    "physical_keyboard = KeyCtrl()\n",
    "buffered_word = \"\"\n",
    "current_layout = \"en\"  # 초기 설정\n",
    "converted_positions = set()"
   ]
  },
  {
   "cell_type": "code",
   "execution_count": null,
   "metadata": {},
   "outputs": [],
   "source": [
    "import torch\n",
    "\n",
    "def predict_language(input_str):\n",
    "    model.eval()\n",
    "    seq = [one_hot_encode(ch) for ch in input_str if ch in char_to_idx]\n",
    "    if not seq: return 0.5  # 기본값\n",
    "    \n",
    "    seq_tensor = torch.tensor(seq).unsqueeze(0)\n",
    "    length = torch.tensor([len(seq)])\n",
    "    \n",
    "    with torch.no_grad():\n",
    "        output = model(seq_tensor, length)\n",
    "    return output.item()"
   ]
  }
 ],
 "metadata": {
  "kernelspec": {
   "display_name": "torchenv",
   "language": "python",
   "name": "python3"
  },
  "language_info": {
   "codemirror_mode": {
    "name": "ipython",
    "version": 3
   },
   "file_extension": ".py",
   "mimetype": "text/x-python",
   "name": "python",
   "nbconvert_exporter": "python",
   "pygments_lexer": "ipython3",
   "version": "3.11.4"
  }
 },
 "nbformat": 4,
 "nbformat_minor": 2
}
