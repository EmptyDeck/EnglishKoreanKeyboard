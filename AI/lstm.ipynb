{
 "cells": [
  {
   "cell_type": "markdown",
   "metadata": {},
   "source": [
    "# 1. Data Preparation\n"
   ]
  },
  {
   "cell_type": "code",
   "execution_count": 2,
   "metadata": {},
   "outputs": [],
   "source": [
    "import torch\n",
    "import torch.nn as nn\n",
    "from torch.utils.data import Dataset, DataLoader, random_split, Subset\n",
    "import pandas as pd\n",
    "import numpy as np\n",
    "import torch.optim as optim\n",
    "import matplotlib.pyplot as plt\n",
    "\n",
    "\n",
    "\n",
    "# Define the allowed characters (26 lowercase + 26 uppercase)\n",
    "ALPHABET = \"abcdefghijklmnopqrstuvwxyzABCDEFGHIJKLMNOPQRSTUVWXYZ\"\n",
    "char_to_idx = {char: idx for idx, char in enumerate(ALPHABET)}\n",
    "\n",
    "def one_hot_encode(letter):\n",
    "    \"\"\"Return a 52-dim one-hot vector for a given letter.\"\"\"\n",
    "    vec = np.zeros(len(ALPHABET), dtype=np.float32)\n",
    "    if letter in char_to_idx:\n",
    "        vec[char_to_idx[letter]] = 1.0\n",
    "    return vec\n",
    "\n",
    "class WordDataset(Dataset):\n",
    "    def __init__(self, csv_file):\n",
    "        self.data = pd.read_csv(csv_file)  # CSV with columns: word, isEnlgish\n",
    "        \n",
    "    def __len__(self):\n",
    "        return len(self.data)\n",
    "        \n",
    "    def __getitem__(self, idx):\n",
    "        row = self.data.iloc[idx]\n",
    "        word = str(row['word'])  # Convert to string in case it's a float\n",
    "        label = float(row['isEnlgish'])  # 1 for English, 0 for Korean\n",
    "        # Convert each character in the word to its one-hot representation\n",
    "        word_seq = [one_hot_encode(ch) for ch in word if ch in char_to_idx]\n",
    "        word_seq = torch.tensor(word_seq, dtype=torch.float32)  # shape: (seq_length, 52)\n",
    "        label = torch.tensor([label], dtype=torch.float32)  # shape: (1,)\n",
    "        return word_seq, label\n"
   ]
  },
  {
   "cell_type": "code",
   "execution_count": 3,
   "metadata": {},
   "outputs": [
    {
     "name": "stdout",
     "output_type": "stream",
     "text": [
      "1.26.4\n"
     ]
    }
   ],
   "source": [
    "import numpy  \n",
    "print(numpy.__version__)\n"
   ]
  },
  {
   "cell_type": "code",
   "execution_count": 4,
   "metadata": {},
   "outputs": [
    {
     "name": "stderr",
     "output_type": "stream",
     "text": [
      "/var/folders/sb/2gzn9_qx589_ft0jp8q6nbbc0000gn/T/ipykernel_20569/3563031236.py:35: UserWarning: Creating a tensor from a list of numpy.ndarrays is extremely slow. Please consider converting the list to a single numpy.ndarray with numpy.array() before converting to a tensor. (Triggered internally at /Users/runner/work/_temp/anaconda/conda-bld/pytorch_1708025535429/work/torch/csrc/utils/tensor_new.cpp:278.)\n",
      "  word_seq = torch.tensor(word_seq, dtype=torch.float32)  # shape: (seq_length, 52)\n"
     ]
    },
    {
     "data": {
      "text/plain": [
       "(tensor([[0., 0., 0., 0., 0., 0., 0., 0., 0., 0., 0., 0., 0., 0., 0., 0., 0., 1.,\n",
       "          0., 0., 0., 0., 0., 0., 0., 0., 0., 0., 0., 0., 0., 0., 0., 0., 0., 0.,\n",
       "          0., 0., 0., 0., 0., 0., 0., 0., 0., 0., 0., 0., 0., 0., 0., 0.],\n",
       "         [0., 0., 0., 0., 0., 0., 0., 0., 0., 1., 0., 0., 0., 0., 0., 0., 0., 0.,\n",
       "          0., 0., 0., 0., 0., 0., 0., 0., 0., 0., 0., 0., 0., 0., 0., 0., 0., 0.,\n",
       "          0., 0., 0., 0., 0., 0., 0., 0., 0., 0., 0., 0., 0., 0., 0., 0.],\n",
       "         [0., 0., 0., 0., 0., 0., 0., 0., 0., 0., 0., 0., 0., 0., 0., 0., 0., 0.,\n",
       "          0., 1., 0., 0., 0., 0., 0., 0., 0., 0., 0., 0., 0., 0., 0., 0., 0., 0.,\n",
       "          0., 0., 0., 0., 0., 0., 0., 0., 0., 0., 0., 0., 0., 0., 0., 0.]]),\n",
       " tensor([0.]))"
      ]
     },
     "execution_count": 4,
     "metadata": {},
     "output_type": "execute_result"
    }
   ],
   "source": [
    "WordDataset('words.csv')[0]"
   ]
  },
  {
   "cell_type": "code",
   "execution_count": 5,
   "metadata": {},
   "outputs": [],
   "source": [
    "from torch.nn.utils.rnn import pad_sequence\n",
    "\n",
    "def collate_fn(batch):\n",
    "    sequences, labels = zip(*batch)\n",
    "    # Determine lengths of each sequence\n",
    "    lengths = torch.tensor([seq.shape[0] for seq in sequences])\n",
    "    # Pad sequences so they all have the same length (batch_first=True gives shape: (batch, max_length, 52))\n",
    "    padded_seqs = pad_sequence(sequences, batch_first=True)\n",
    "    labels = torch.stack(labels)  # shape: (batch, 1)\n",
    "    return padded_seqs, labels, lengths\n"
   ]
  },
  {
   "cell_type": "markdown",
   "metadata": {},
   "source": [
    "# 2. Model Definition\n"
   ]
  },
  {
   "cell_type": "code",
   "execution_count": null,
   "metadata": {},
   "outputs": [],
   "source": [
    "class LanguageClassifier(nn.Module):\n",
    "    def __init__(self, input_size=52, hidden_size=128, num_layers=1):\n",
    "        super(LanguageClassifier, self).__init__()\n",
    "        self.lstm = nn.LSTM(input_size, hidden_size, num_layers, batch_first=True)\n",
    "        self.fc = nn.Linear(hidden_size, 1)\n",
    "        self.sigmoid = nn.Sigmoid()\n",
    "        \n",
    "    def forward(self, x, lengths):\n",
    "        # Pack the padded sequence\n",
    "        packed = nn.utils.rnn.pack_padded_sequence(x, lengths, batch_first=True, enforce_sorted=False)\n",
    "        packed_out, (h_n, _) = self.lstm(packed)\n",
    "        # h_n is of shape (num_layers, batch, hidden_size); we use the last layer’s hidden state\n",
    "        h_last = h_n[-1]  # shape: (batch, hidden_size)\n",
    "        out = self.fc(h_last)  # shape: (batch, 1)\n",
    "        out = self.sigmoid(out)  # Output between 0 and 1\n",
    "        return out\n"
   ]
  },
  {
   "cell_type": "markdown",
   "metadata": {},
   "source": [
    "# 3. Training Loop\n"
   ]
  },
  {
   "cell_type": "code",
   "execution_count": 7,
   "metadata": {},
   "outputs": [],
   "source": [
    "# Dataset and DataLoader\n",
    "dataset = WordDataset(\"words.csv\") # Replace 'words.csv' with your dataset path\n",
    "# Calculate dataset sizes\n",
    "total_size = len(dataset)\n",
    "train_size = int(0.7 * total_size)\n",
    "remaining_size = total_size - train_size\n",
    "val_size = int(remaining_size / 2)\n",
    "test_size = remaining_size - val_size\n",
    "\n",
    "\n",
    "# Use random_split to create training, validation, and test datasets\n",
    "train_dataset, val_dataset, test_dataset = random_split(dataset, [train_size, val_size, test_size])\n",
    "\n",
    "train_dataloader = DataLoader(train_dataset, batch_size=32, shuffle=True, collate_fn=collate_fn)\n",
    "val_dataloader = DataLoader(val_dataset, batch_size=32, shuffle=False, collate_fn=collate_fn) # No need to shuffle val/test\n",
    "test_dataloader = DataLoader(test_dataset, batch_size=32, shuffle=False, collate_fn=collate_fn) # No need to shuffle val/test\n"
   ]
  },
  {
   "cell_type": "code",
   "execution_count": 9,
   "metadata": {},
   "outputs": [],
   "source": [
    "# --- Model, Criterion, Optimizer ---\n",
    "model = LanguageClassifier(input_size=52, hidden_size=128, num_layers=1)\n",
    "criterion = nn.BCELoss()\n",
    "optimizer = optim.Adam(model.parameters(), lr=0.001)\n",
    "num_epochs = 5"
   ]
  },
  {
   "cell_type": "markdown",
   "metadata": {},
   "source": [
    "# 4. Bringing It All Together\n"
   ]
  },
  {
   "cell_type": "code",
   "execution_count": 14,
   "metadata": {},
   "outputs": [
    {
     "name": "stdout",
     "output_type": "stream",
     "text": [
      "Epoch 1, Training Loss: 0.3327, Validation Loss: 0.2123\n",
      "Best model saved at epoch 1 with Validation Loss: 0.2123\n",
      "Epoch 2, Training Loss: 0.1729, Validation Loss: 0.1542\n",
      "Best model saved at epoch 2 with Validation Loss: 0.1542\n",
      "Epoch 3, Training Loss: 0.1434, Validation Loss: 0.1401\n",
      "Best model saved at epoch 3 with Validation Loss: 0.1401\n",
      "Epoch 4, Training Loss: 0.1294, Validation Loss: 0.1213\n",
      "Best model saved at epoch 4 with Validation Loss: 0.1213\n",
      "Epoch 5, Training Loss: 0.1167, Validation Loss: 0.1314\n",
      "Test Loss: 0.1203\n"
     ]
    },
    {
     "data": {
      "image/png": "[encoded data removed]",
      "text/plain": [
       "<Figure size 1000x500 with 1 Axes>"
      ]
     },
     "metadata": {},
     "output_type": "display_data"
    }
   ],
   "source": [
    "best_val_loss = float('inf')\n",
    "train_losses = []\n",
    "val_losses = []\n",
    "\n",
    "# --- Training and Validation loop ---\n",
    "for epoch in range(num_epochs):\n",
    "    # --- Training ---\n",
    "    model.train()\n",
    "    total_loss = 0.0\n",
    "    for batch in train_dataloader:  # Use train_dataloader\n",
    "        inputs, labels, lengths = batch\n",
    "        optimizer.zero_grad()\n",
    "        outputs = model(inputs, lengths)\n",
    "        loss = criterion(outputs, labels)\n",
    "        loss.backward()\n",
    "        optimizer.step()\n",
    "        total_loss += loss.item()\n",
    "    \n",
    "    avg_train_loss = total_loss / len(train_dataloader)\n",
    "    train_losses.append(avg_train_loss)\n",
    "    \n",
    "    # --- Validation ---\n",
    "    model.eval()  # Set model to evaluation mode for validation\n",
    "    val_loss = 0.0\n",
    "    with torch.no_grad():  # Disable gradient calculation for validation\n",
    "        for batch in val_dataloader:  # Use val_dataloader\n",
    "            inputs, labels, lengths = batch\n",
    "            outputs = model(inputs, lengths)\n",
    "            loss = criterion(outputs, labels)\n",
    "            val_loss += loss.item()\n",
    "    avg_val_loss = val_loss / len(val_dataloader)\n",
    "    val_losses.append(avg_val_loss)\n",
    "    \n",
    "    print(f\"Epoch {epoch+1}, Training Loss: {avg_train_loss:.4f}, Validation Loss: {avg_val_loss:.4f}\")\n",
    "    \n",
    "    # --- Save best model based on validation loss ---\n",
    "    if avg_val_loss < best_val_loss:\n",
    "        best_val_loss = avg_val_loss\n",
    "        torch.save(model.state_dict(), \"best_model.pt\")\n",
    "        print(f\"Best model saved at epoch {epoch+1} with Validation Loss: {best_val_loss:.4f}\")\n",
    "\n",
    "# --- Evaluation on Test set using the best model ---\n",
    "# Load the best model\n",
    "model.load_state_dict(torch.load(\"best_model.pt\"))\n",
    "model.eval()  # Set model to evaluation mode for testing\n",
    "test_loss = 0.0\n",
    "with torch.no_grad():\n",
    "    for batch in test_dataloader:  # Use test_dataloader\n",
    "        inputs, labels, lengths = batch\n",
    "        outputs = model(inputs, lengths)\n",
    "        loss = criterion(outputs, labels)\n",
    "        test_loss += loss.item()\n",
    "avg_test_loss = test_loss / len(test_dataloader)\n",
    "print(f\"Test Loss: {avg_test_loss:.4f}\")\n",
    "\n",
    "# --- Visualization ---\n",
    "plt.figure(figsize=(10, 5))\n",
    "plt.plot(range(1, num_epochs + 1), train_losses, label=\"Training Loss\")\n",
    "plt.plot(range(1, num_epochs + 1), val_losses, label=\"Validation Loss\")\n",
    "plt.xlabel(\"Epoch\")\n",
    "plt.ylabel(\"Loss\")\n",
    "plt.title(\"Training and Validation Loss\")\n",
    "plt.legend()\n",
    "plt.show()"
   ]
  },
  {
   "cell_type": "code",
   "execution_count": 13,
   "metadata": {},
   "outputs": [
    {
     "name": "stdout",
     "output_type": "stream",
     "text": [
      "Prediction for 'am': 0.5054\n"
     ]
    }
   ],
   "source": [
    "model.eval()\n",
    "test_word = \"am\"\n",
    "test_seq = [one_hot_encode(ch) for ch in test_word if ch in char_to_idx]\n",
    "test_seq = torch.tensor(test_seq, dtype=torch.float32).unsqueeze(0)  # shape: (1, seq_length, 52)\n",
    "length = torch.tensor([len(test_seq[0])])\n",
    "with torch.no_grad():\n",
    "    prediction = model(test_seq, length)\n",
    "print(f\"Prediction for '{test_word}': {prediction.item():.4f}\")"
   ]
  }
 ],
 "metadata": {
  "kernelspec": {
   "display_name": "fart",
   "language": "python",
   "name": "python3"
  },
  "language_info": {
   "codemirror_mode": {
    "name": "ipython",
    "version": 3
   },
   "file_extension": ".py",
   "mimetype": "text/x-python",
   "name": "python",
   "nbconvert_exporter": "python",
   "pygments_lexer": "ipython3",
   "version": "3.12.2"
  }
 },
 "nbformat": 4,
 "nbformat_minor": 2
}
