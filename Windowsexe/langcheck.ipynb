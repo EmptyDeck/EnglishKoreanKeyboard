{
 "cells": [
  {
   "cell_type": "code",
   "execution_count": 9,
   "metadata": {},
   "outputs": [
    {
     "name": "stdout",
     "output_type": "stream",
     "text": [
      "ko\n"
     ]
    }
   ],
   "source": [
    "import subprocess\n",
    "import os\n",
    "\n",
    "def get_language_code(exe_path):\n",
    "    \"\"\"\n",
    "    Executes the CheckCurrentLanguage.exe and returns the language code.\n",
    "\n",
    "    Args:\n",
    "        exe_path: The full path to the CheckCurrentLanguage.exe file.\n",
    "\n",
    "    Returns:\n",
    "        \"ko\" for Korean, \"en\" for English, \"unknown\" for others, or None if an error occurred.\n",
    "    \"\"\"\n",
    "    try:\n",
    "        if not os.path.exists(exe_path):\n",
    "            return None\n",
    "\n",
    "        result = subprocess.run([exe_path], capture_output=True, text=True, check=True)\n",
    "        output = result.stdout.strip()\n",
    "\n",
    "        if \"Korean input mode\" in output:\n",
    "            return \"ko\"\n",
    "        elif \"English (US) keyboard layout detected\" in output:\n",
    "            return \"en\"\n",
    "        elif \"Detected language: ko\" in output:\n",
    "            return \"ko\"\n",
    "        elif \"Detected language: en\" in output:\n",
    "            return \"en\"\n",
    "        elif \"Detected language:\" in output:\n",
    "            return \"unknown\"\n",
    "        elif \"No foreground window detected\" in output:\n",
    "            return \"en\"\n",
    "        elif \"Korean keyboard layout detected, but no IME window found.\" in output:\n",
    "            return \"en\"\n",
    "        elif \"Korean keyboard layout detected, but Korean IME mode is inactive.\" in output:\n",
    "            return \"en\"\n",
    "        else:\n",
    "            return \"unknown\"\n",
    "\n",
    "    except (subprocess.CalledProcessError, FileNotFoundError, Exception):\n",
    "        return None\n",
    "\n",
    "# Example usage:\n",
    "exe_path = \"CheckCurrentLanguage.exe\"  # Replace with the actual path if needed.\n",
    "language_code = get_language_code(exe_path)\n",
    "\n",
    "if language_code:\n",
    "    print(language_code)\n",
    "else:\n",
    "    print(\"Error executing CheckCurrentLanguage.exe\")\n",
    "\n",
    "#example for other directories\n",
    "#exe_path = r\"C:\\path\\to\\your\\CheckCurrentLanguage.exe\"\n",
    "#language_code = get_language_code(exe_path)\n",
    "#if language_code:\n",
    "#    print(language_code)\n",
    "#else:\n",
    "#    print(\"Error executing CheckCurrentLanguage.exe\")"
   ]
  }
 ],
 "metadata": {
  "kernelspec": {
   "display_name": "torchenv",
   "language": "python",
   "name": "python3"
  },
  "language_info": {
   "codemirror_mode": {
    "name": "ipython",
    "version": 3
   },
   "file_extension": ".py",
   "mimetype": "text/x-python",
   "name": "python",
   "nbconvert_exporter": "python",
   "pygments_lexer": "ipython3",
   "version": "3.11.4"
  }
 },
 "nbformat": 4,
 "nbformat_minor": 2
}
