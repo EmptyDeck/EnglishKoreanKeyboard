{
 "cells": [
  {
   "cell_type": "code",
   "execution_count": 16,
   "metadata": {},
   "outputs": [
    {
     "name": "stdout",
     "output_type": "stream",
     "text": [
      "Successfully processed 'unigram_freq.csv' and saved as 'english.csv'\n"
     ]
    }
   ],
   "source": [
    "import csv\n",
    "\n",
    "def process_csv(input_file, output_file):\n",
    "    \"\"\"\n",
    "    Reads a CSV file, removes the second column, fills it with '1',\n",
    "    and saves the result to a new CSV file.\n",
    "\n",
    "    Args:\n",
    "        input_file (str): Path to the input CSV file.\n",
    "        output_file (str): Path to save the processed CSV file.\n",
    "    \"\"\"\n",
    "    try:\n",
    "        with open(input_file, 'r', newline='', encoding='utf-8') as infile, \\\n",
    "             open(output_file, 'w', newline='', encoding='utf-8') as outfile:\n",
    "\n",
    "            reader = csv.reader(infile)\n",
    "            writer = csv.writer(outfile)\n",
    "\n",
    "            for row in reader:\n",
    "                if row:  # Check if the row is not empty\n",
    "                    new_row = [row[0], '1']  # Create a new row with the first column and '1'\n",
    "                    writer.writerow(new_row)\n",
    "\n",
    "        print(f\"Successfully processed '{input_file}' and saved as '{output_file}'\")\n",
    "\n",
    "    except FileNotFoundError:\n",
    "        print(f\"Error: Input file '{input_file}' not found.\")\n",
    "    except Exception as e:\n",
    "        print(f\"An error occurred: {e}\")\n",
    "\n",
    "if __name__ == \"__main__\":\n",
    "    input_csv_file = \"unigram_freq.csv\"\n",
    "    output_csv_file = \"english.csv\"\n",
    "    process_csv(input_csv_file, output_csv_file)"
   ]
  }
 ],
 "metadata": {
  "kernelspec": {
   "display_name": "torchenv",
   "language": "python",
   "name": "python3"
  },
  "language_info": {
   "codemirror_mode": {
    "name": "ipython",
    "version": 3
   },
   "file_extension": ".py",
   "mimetype": "text/x-python",
   "name": "python",
   "nbconvert_exporter": "python",
   "pygments_lexer": "ipython3",
   "version": "3.11.4"
  }
 },
 "nbformat": 4,
 "nbformat_minor": 2
}
